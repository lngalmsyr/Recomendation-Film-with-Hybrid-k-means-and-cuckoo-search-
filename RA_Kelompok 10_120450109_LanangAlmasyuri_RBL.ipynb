{
  "cells": [
    {
      "cell_type": "code",
      "execution_count": 306,
      "metadata": {
        "id": "zsnqwLigwM7L"
      },
      "outputs": [],
      "source": [
        "import pandas as pd\n",
        "import numpy as np\n",
        "import matplotlib\n",
        "from matplotlib import pyplot as plt\n",
        "import sklearn\n",
        "from sklearn.feature_extraction.text import CountVectorizer\n",
        "from sklearn.cluster import KMeans\n",
        "import pickle\n",
        "import sys\n",
        "from sys import exc_info\n",
        "import ast\n",
        "from sklearn.model_selection import train_test_split\n",
        "from sklearn.preprocessing import normalize #get the function needed to normalize our data.\n",
        "from sklearn.metrics import mean_absolute_error\n",
        "from sklearn.neighbors import KNeighborsClassifier #the object class we need\n"
      ]
    },
    {
      "cell_type": "code",
      "execution_count": 307,
      "metadata": {
        "colab": {
          "base_uri": "https://localhost:8080/"
        },
        "id": "oxDMBI5KwrlM",
        "outputId": "6fe543fa-770e-48a8-f047-9be60c87d16d"
      },
      "outputs": [],
      "source": [
        "# from google.colab import drive\n",
        "# drive.mount('/content/drive')"
      ]
    },
    {
      "cell_type": "code",
      "execution_count": 308,
      "metadata": {
        "id": "5RnEtt1Mws_T"
      },
      "outputs": [],
      "source": [
        "#Importing both the file using pandas \n",
        "data_x = pd.read_csv('C:/Users/Lenovo/OneDrive/Desktop/KELAS/swarm intelegence/tugas besar/bahan/datax_ratingsdata2.csv')  "
      ]
    },
    {
      "cell_type": "code",
      "execution_count": 309,
      "metadata": {
        "colab": {
          "base_uri": "https://localhost:8080/",
          "height": 423
        },
        "id": "lTbSInBmyN1a",
        "outputId": "27b802ab-95cd-4457-c8b6-3eadf258001e"
      },
      "outputs": [
        {
          "data": {
            "text/html": [
              "<div>\n",
              "<style scoped>\n",
              "    .dataframe tbody tr th:only-of-type {\n",
              "        vertical-align: middle;\n",
              "    }\n",
              "\n",
              "    .dataframe tbody tr th {\n",
              "        vertical-align: top;\n",
              "    }\n",
              "\n",
              "    .dataframe thead th {\n",
              "        text-align: right;\n",
              "    }\n",
              "</style>\n",
              "<table border=\"1\" class=\"dataframe\">\n",
              "  <thead>\n",
              "    <tr style=\"text-align: right;\">\n",
              "      <th></th>\n",
              "      <th>Unnamed: 0</th>\n",
              "      <th>UserID</th>\n",
              "      <th>MovieID</th>\n",
              "      <th>Rating</th>\n",
              "    </tr>\n",
              "  </thead>\n",
              "  <tbody>\n",
              "    <tr>\n",
              "      <th>0</th>\n",
              "      <td>0</td>\n",
              "      <td>75.0</td>\n",
              "      <td>2294</td>\n",
              "      <td>5.0</td>\n",
              "    </tr>\n",
              "    <tr>\n",
              "      <th>1</th>\n",
              "      <td>1</td>\n",
              "      <td>53.0</td>\n",
              "      <td>1282</td>\n",
              "      <td>5.0</td>\n",
              "    </tr>\n",
              "    <tr>\n",
              "      <th>2</th>\n",
              "      <td>2</td>\n",
              "      <td>36.0</td>\n",
              "      <td>1963</td>\n",
              "      <td>5.0</td>\n",
              "    </tr>\n",
              "    <tr>\n",
              "      <th>3</th>\n",
              "      <td>3</td>\n",
              "      <td>88.0</td>\n",
              "      <td>1394</td>\n",
              "      <td>1.0</td>\n",
              "    </tr>\n",
              "    <tr>\n",
              "      <th>4</th>\n",
              "      <td>4</td>\n",
              "      <td>36.0</td>\n",
              "      <td>3147</td>\n",
              "      <td>5.0</td>\n",
              "    </tr>\n",
              "    <tr>\n",
              "      <th>...</th>\n",
              "      <td>...</td>\n",
              "      <td>...</td>\n",
              "      <td>...</td>\n",
              "      <td>...</td>\n",
              "    </tr>\n",
              "    <tr>\n",
              "      <th>95</th>\n",
              "      <td>95</td>\n",
              "      <td>48.0</td>\n",
              "      <td>1265</td>\n",
              "      <td>3.0</td>\n",
              "    </tr>\n",
              "    <tr>\n",
              "      <th>96</th>\n",
              "      <td>96</td>\n",
              "      <td>58.0</td>\n",
              "      <td>1213</td>\n",
              "      <td>5.0</td>\n",
              "    </tr>\n",
              "    <tr>\n",
              "      <th>97</th>\n",
              "      <td>97</td>\n",
              "      <td>70.0</td>\n",
              "      <td>3175</td>\n",
              "      <td>5.0</td>\n",
              "    </tr>\n",
              "    <tr>\n",
              "      <th>98</th>\n",
              "      <td>98</td>\n",
              "      <td>8.0</td>\n",
              "      <td>150</td>\n",
              "      <td>4.0</td>\n",
              "    </tr>\n",
              "    <tr>\n",
              "      <th>99</th>\n",
              "      <td>99</td>\n",
              "      <td>62.0</td>\n",
              "      <td>608</td>\n",
              "      <td>4.0</td>\n",
              "    </tr>\n",
              "  </tbody>\n",
              "</table>\n",
              "<p>100 rows × 4 columns</p>\n",
              "</div>"
            ],
            "text/plain": [
              "    Unnamed: 0  UserID  MovieID  Rating\n",
              "0            0    75.0     2294     5.0\n",
              "1            1    53.0     1282     5.0\n",
              "2            2    36.0     1963     5.0\n",
              "3            3    88.0     1394     1.0\n",
              "4            4    36.0     3147     5.0\n",
              "..         ...     ...      ...     ...\n",
              "95          95    48.0     1265     3.0\n",
              "96          96    58.0     1213     5.0\n",
              "97          97    70.0     3175     5.0\n",
              "98          98     8.0      150     4.0\n",
              "99          99    62.0      608     4.0\n",
              "\n",
              "[100 rows x 4 columns]"
            ]
          },
          "execution_count": 309,
          "metadata": {},
          "output_type": "execute_result"
        }
      ],
      "source": [
        "data_x"
      ]
    },
    {
      "cell_type": "code",
      "execution_count": 310,
      "metadata": {
        "id": "4ZyPF8pMyOqZ"
      },
      "outputs": [],
      "source": [
        "data_x = data_x.drop('Unnamed: 0',axis = 1)\n"
      ]
    },
    {
      "cell_type": "code",
      "execution_count": 311,
      "metadata": {
        "colab": {
          "base_uri": "https://localhost:8080/",
          "height": 423
        },
        "id": "ceicB6zLyZAx",
        "outputId": "c8d4a5ec-68c9-4490-88cb-ce4df19f2f7a"
      },
      "outputs": [
        {
          "data": {
            "text/html": [
              "<div>\n",
              "<style scoped>\n",
              "    .dataframe tbody tr th:only-of-type {\n",
              "        vertical-align: middle;\n",
              "    }\n",
              "\n",
              "    .dataframe tbody tr th {\n",
              "        vertical-align: top;\n",
              "    }\n",
              "\n",
              "    .dataframe thead th {\n",
              "        text-align: right;\n",
              "    }\n",
              "</style>\n",
              "<table border=\"1\" class=\"dataframe\">\n",
              "  <thead>\n",
              "    <tr style=\"text-align: right;\">\n",
              "      <th></th>\n",
              "      <th>UserID</th>\n",
              "      <th>MovieID</th>\n",
              "      <th>Rating</th>\n",
              "    </tr>\n",
              "  </thead>\n",
              "  <tbody>\n",
              "    <tr>\n",
              "      <th>0</th>\n",
              "      <td>75.0</td>\n",
              "      <td>2294</td>\n",
              "      <td>5.0</td>\n",
              "    </tr>\n",
              "    <tr>\n",
              "      <th>1</th>\n",
              "      <td>53.0</td>\n",
              "      <td>1282</td>\n",
              "      <td>5.0</td>\n",
              "    </tr>\n",
              "    <tr>\n",
              "      <th>2</th>\n",
              "      <td>36.0</td>\n",
              "      <td>1963</td>\n",
              "      <td>5.0</td>\n",
              "    </tr>\n",
              "    <tr>\n",
              "      <th>3</th>\n",
              "      <td>88.0</td>\n",
              "      <td>1394</td>\n",
              "      <td>1.0</td>\n",
              "    </tr>\n",
              "    <tr>\n",
              "      <th>4</th>\n",
              "      <td>36.0</td>\n",
              "      <td>3147</td>\n",
              "      <td>5.0</td>\n",
              "    </tr>\n",
              "    <tr>\n",
              "      <th>...</th>\n",
              "      <td>...</td>\n",
              "      <td>...</td>\n",
              "      <td>...</td>\n",
              "    </tr>\n",
              "    <tr>\n",
              "      <th>95</th>\n",
              "      <td>48.0</td>\n",
              "      <td>1265</td>\n",
              "      <td>3.0</td>\n",
              "    </tr>\n",
              "    <tr>\n",
              "      <th>96</th>\n",
              "      <td>58.0</td>\n",
              "      <td>1213</td>\n",
              "      <td>5.0</td>\n",
              "    </tr>\n",
              "    <tr>\n",
              "      <th>97</th>\n",
              "      <td>70.0</td>\n",
              "      <td>3175</td>\n",
              "      <td>5.0</td>\n",
              "    </tr>\n",
              "    <tr>\n",
              "      <th>98</th>\n",
              "      <td>8.0</td>\n",
              "      <td>150</td>\n",
              "      <td>4.0</td>\n",
              "    </tr>\n",
              "    <tr>\n",
              "      <th>99</th>\n",
              "      <td>62.0</td>\n",
              "      <td>608</td>\n",
              "      <td>4.0</td>\n",
              "    </tr>\n",
              "  </tbody>\n",
              "</table>\n",
              "<p>100 rows × 3 columns</p>\n",
              "</div>"
            ],
            "text/plain": [
              "    UserID  MovieID  Rating\n",
              "0     75.0     2294     5.0\n",
              "1     53.0     1282     5.0\n",
              "2     36.0     1963     5.0\n",
              "3     88.0     1394     1.0\n",
              "4     36.0     3147     5.0\n",
              "..     ...      ...     ...\n",
              "95    48.0     1265     3.0\n",
              "96    58.0     1213     5.0\n",
              "97    70.0     3175     5.0\n",
              "98     8.0      150     4.0\n",
              "99    62.0      608     4.0\n",
              "\n",
              "[100 rows x 3 columns]"
            ]
          },
          "execution_count": 311,
          "metadata": {},
          "output_type": "execute_result"
        }
      ],
      "source": [
        "data_x"
      ]
    },
    {
      "cell_type": "code",
      "execution_count": 312,
      "metadata": {
        "colab": {
          "base_uri": "https://localhost:8080/",
          "height": 300
        },
        "id": "IE-IsIO8ycFy",
        "outputId": "3d94df33-3e64-41fc-e82c-b80328498ae9"
      },
      "outputs": [
        {
          "data": {
            "text/html": [
              "<div>\n",
              "<style scoped>\n",
              "    .dataframe tbody tr th:only-of-type {\n",
              "        vertical-align: middle;\n",
              "    }\n",
              "\n",
              "    .dataframe tbody tr th {\n",
              "        vertical-align: top;\n",
              "    }\n",
              "\n",
              "    .dataframe thead th {\n",
              "        text-align: right;\n",
              "    }\n",
              "</style>\n",
              "<table border=\"1\" class=\"dataframe\">\n",
              "  <thead>\n",
              "    <tr style=\"text-align: right;\">\n",
              "      <th></th>\n",
              "      <th>UserID</th>\n",
              "      <th>MovieID</th>\n",
              "      <th>Rating</th>\n",
              "    </tr>\n",
              "  </thead>\n",
              "  <tbody>\n",
              "    <tr>\n",
              "      <th>count</th>\n",
              "      <td>100.000000</td>\n",
              "      <td>100.000000</td>\n",
              "      <td>100.00000</td>\n",
              "    </tr>\n",
              "    <tr>\n",
              "      <th>mean</th>\n",
              "      <td>47.370000</td>\n",
              "      <td>1897.040000</td>\n",
              "      <td>3.82000</td>\n",
              "    </tr>\n",
              "    <tr>\n",
              "      <th>std</th>\n",
              "      <td>26.406555</td>\n",
              "      <td>1177.119416</td>\n",
              "      <td>1.00885</td>\n",
              "    </tr>\n",
              "    <tr>\n",
              "      <th>min</th>\n",
              "      <td>2.000000</td>\n",
              "      <td>11.000000</td>\n",
              "      <td>1.00000</td>\n",
              "    </tr>\n",
              "    <tr>\n",
              "      <th>25%</th>\n",
              "      <td>26.000000</td>\n",
              "      <td>1024.750000</td>\n",
              "      <td>3.00000</td>\n",
              "    </tr>\n",
              "    <tr>\n",
              "      <th>50%</th>\n",
              "      <td>48.000000</td>\n",
              "      <td>1871.000000</td>\n",
              "      <td>4.00000</td>\n",
              "    </tr>\n",
              "    <tr>\n",
              "      <th>75%</th>\n",
              "      <td>62.250000</td>\n",
              "      <td>2799.750000</td>\n",
              "      <td>5.00000</td>\n",
              "    </tr>\n",
              "    <tr>\n",
              "      <th>max</th>\n",
              "      <td>99.000000</td>\n",
              "      <td>3927.000000</td>\n",
              "      <td>5.00000</td>\n",
              "    </tr>\n",
              "  </tbody>\n",
              "</table>\n",
              "</div>"
            ],
            "text/plain": [
              "           UserID      MovieID     Rating\n",
              "count  100.000000   100.000000  100.00000\n",
              "mean    47.370000  1897.040000    3.82000\n",
              "std     26.406555  1177.119416    1.00885\n",
              "min      2.000000    11.000000    1.00000\n",
              "25%     26.000000  1024.750000    3.00000\n",
              "50%     48.000000  1871.000000    4.00000\n",
              "75%     62.250000  2799.750000    5.00000\n",
              "max     99.000000  3927.000000    5.00000"
            ]
          },
          "execution_count": 312,
          "metadata": {},
          "output_type": "execute_result"
        }
      ],
      "source": [
        "data_x.describe()"
      ]
    },
    {
      "cell_type": "code",
      "execution_count": 313,
      "metadata": {
        "colab": {
          "base_uri": "https://localhost:8080/"
        },
        "id": "DKYZU1Ufy7gK",
        "outputId": "930ce59b-af92-4f7d-fd3b-d59fea673910"
      },
      "outputs": [
        {
          "name": "stdout",
          "output_type": "stream",
          "text": [
            "[[7.500e+01 2.294e+03 5.000e+00]\n",
            " [5.300e+01 1.282e+03 5.000e+00]\n",
            " [3.600e+01 1.963e+03 5.000e+00]\n",
            " [8.800e+01 1.394e+03 1.000e+00]\n",
            " [3.600e+01 3.147e+03 5.000e+00]\n",
            " [3.300e+01 3.639e+03 5.000e+00]\n",
            " [2.200e+01 2.617e+03 3.000e+00]\n",
            " [4.900e+01 2.880e+02 4.000e+00]\n",
            " [2.400e+01 3.448e+03 5.000e+00]\n",
            " [9.000e+01 2.302e+03 3.000e+00]\n",
            " [3.800e+01 5.880e+02 4.000e+00]\n",
            " [5.300e+01 1.930e+02 4.000e+00]\n",
            " [5.300e+01 3.557e+03 4.000e+00]\n",
            " [5.800e+01 1.060e+03 4.000e+00]\n",
            " [8.300e+01 2.581e+03 1.000e+00]\n",
            " [5.300e+01 2.598e+03 4.000e+00]\n",
            " [1.700e+01 3.624e+03 4.000e+00]\n",
            " [9.700e+01 2.303e+03 4.000e+00]\n",
            " [9.000e+01 1.136e+03 5.000e+00]\n",
            " [5.900e+01 7.500e+02 4.000e+00]\n",
            " [5.000e+00 1.909e+03 3.000e+00]\n",
            " [2.500e+01 1.270e+03 5.000e+00]\n",
            " [5.800e+01 3.927e+03 4.000e+00]\n",
            " [4.800e+01 1.015e+03 3.000e+00]\n",
            " [4.200e+01 2.662e+03 4.000e+00]\n",
            " [3.300e+01 3.844e+03 5.000e+00]\n",
            " [2.800e+01 1.748e+03 3.000e+00]\n",
            " [8.300e+01 3.155e+03 5.000e+00]\n",
            " [9.900e+01 1.193e+03 2.000e+00]\n",
            " [5.000e+00 4.700e+01 3.000e+00]\n",
            " [4.200e+01 1.980e+02 4.000e+00]\n",
            " [9.600e+01 3.916e+03 4.000e+00]\n",
            " [9.000e+01 2.763e+03 3.000e+00]\n",
            " [9.000e+01 3.798e+03 4.000e+00]\n",
            " [1.000e+01 2.371e+03 4.000e+00]\n",
            " [9.000e+01 3.896e+03 4.000e+00]\n",
            " [2.500e+01 2.571e+03 3.000e+00]\n",
            " [2.600e+01 2.259e+03 3.000e+00]\n",
            " [9.700e+01 1.235e+03 5.000e+00]\n",
            " [5.400e+01 2.791e+03 5.000e+00]\n",
            " [1.000e+01 2.087e+03 5.000e+00]\n",
            " [4.800e+01 1.500e+02 4.000e+00]\n",
            " [8.000e+00 1.488e+03 3.000e+00]\n",
            " [5.900e+01 5.090e+02 4.000e+00]\n",
            " [7.300e+01 7.040e+02 3.000e+00]\n",
            " [9.700e+01 1.292e+03 3.000e+00]\n",
            " [9.600e+01 2.762e+03 4.000e+00]\n",
            " [4.800e+01 5.410e+02 4.000e+00]\n",
            " [3.400e+01 1.100e+01 4.000e+00]\n",
            " [3.400e+01 2.710e+03 5.000e+00]\n",
            " [2.200e+01 2.858e+03 5.000e+00]\n",
            " [1.800e+01 3.680e+02 3.000e+00]\n",
            " [3.400e+01 2.011e+03 3.000e+00]\n",
            " [3.300e+01 1.103e+03 4.000e+00]\n",
            " [6.200e+01 1.302e+03 3.000e+00]\n",
            " [1.000e+01 1.287e+03 3.000e+00]\n",
            " [1.900e+01 1.234e+03 5.000e+00]\n",
            " [4.800e+01 3.253e+03 4.000e+00]\n",
            " [6.000e+00 3.753e+03 5.000e+00]\n",
            " [2.400e+01 1.704e+03 4.000e+00]\n",
            " [9.300e+01 6.480e+02 4.000e+00]\n",
            " [6.200e+01 1.199e+03 4.000e+00]\n",
            " [7.000e+01 3.081e+03 4.000e+00]\n",
            " [6.300e+01 2.375e+03 3.000e+00]\n",
            " [4.800e+01 2.770e+02 3.000e+00]\n",
            " [6.100e+01 3.511e+03 1.000e+00]\n",
            " [4.000e+01 7.360e+02 4.000e+00]\n",
            " [5.000e+00 1.449e+03 4.000e+00]\n",
            " [7.500e+01 1.391e+03 3.000e+00]\n",
            " [3.600e+01 5.000e+02 4.000e+00]\n",
            " [3.900e+01 1.060e+03 5.000e+00]\n",
            " [2.600e+01 3.809e+03 3.000e+00]\n",
            " [3.700e+01 2.108e+03 5.000e+00]\n",
            " [1.700e+01 2.058e+03 3.000e+00]\n",
            " [5.300e+01 1.408e+03 5.000e+00]\n",
            " [4.500e+01 3.248e+03 3.000e+00]\n",
            " [3.500e+01 3.365e+03 4.000e+00]\n",
            " [1.900e+01 5.950e+02 3.000e+00]\n",
            " [5.300e+01 2.581e+03 5.000e+00]\n",
            " [7.800e+01 5.620e+02 5.000e+00]\n",
            " [3.400e+01 3.264e+03 2.000e+00]\n",
            " [7.300e+01 3.440e+03 3.000e+00]\n",
            " [1.800e+01 2.100e+03 4.000e+00]\n",
            " [2.000e+00 3.654e+03 3.000e+00]\n",
            " [2.600e+01 1.833e+03 4.000e+00]\n",
            " [6.300e+01 3.543e+03 4.000e+00]\n",
            " [6.300e+01 2.826e+03 1.000e+00]\n",
            " [2.600e+01 2.268e+03 4.000e+00]\n",
            " [4.100e+01 6.710e+02 5.000e+00]\n",
            " [5.300e+01 2.330e+02 5.000e+00]\n",
            " [3.600e+01 2.230e+02 5.000e+00]\n",
            " [5.900e+01 1.028e+03 3.000e+00]\n",
            " [5.000e+00 1.600e+01 3.000e+00]\n",
            " [5.600e+01 2.321e+03 5.000e+00]\n",
            " [4.500e+01 1.453e+03 2.000e+00]\n",
            " [4.800e+01 1.265e+03 3.000e+00]\n",
            " [5.800e+01 1.213e+03 5.000e+00]\n",
            " [7.000e+01 3.175e+03 5.000e+00]\n",
            " [8.000e+00 1.500e+02 4.000e+00]\n",
            " [6.200e+01 6.080e+02 4.000e+00]]\n"
          ]
        }
      ],
      "source": [
        "x_array =  np.array(data_x)\n",
        "print(x_array)"
      ]
    },
    {
      "cell_type": "code",
      "execution_count": 314,
      "metadata": {
        "colab": {
          "base_uri": "https://localhost:8080/"
        },
        "id": "JUDfICdOzGQy",
        "outputId": "c30563ec-58a1-4958-f466-41cbbd205a75"
      },
      "outputs": [
        {
          "data": {
            "text/plain": [
              "array([[0.75257732, 0.58299285, 1.        ],\n",
              "       [0.5257732 , 0.32456588, 1.        ],\n",
              "       [0.35051546, 0.49846782, 1.        ],\n",
              "       [0.88659794, 0.3531665 , 0.        ],\n",
              "       [0.35051546, 0.80081716, 1.        ],\n",
              "       [0.31958763, 0.92645557, 1.        ],\n",
              "       [0.20618557, 0.66547497, 0.5       ],\n",
              "       [0.48453608, 0.07073544, 0.75      ],\n",
              "       [0.22680412, 0.87768131, 1.        ],\n",
              "       [0.90721649, 0.58503575, 0.5       ],\n",
              "       [0.37113402, 0.14734423, 0.75      ],\n",
              "       [0.5257732 , 0.046476  , 0.75      ],\n",
              "       [0.5257732 , 0.90551583, 0.75      ],\n",
              "       [0.57731959, 0.26787538, 0.75      ],\n",
              "       [0.83505155, 0.65628192, 0.        ],\n",
              "       [0.5257732 , 0.66062308, 0.75      ],\n",
              "       [0.15463918, 0.92262513, 0.75      ],\n",
              "       [0.97938144, 0.58529111, 0.75      ],\n",
              "       [0.90721649, 0.28728294, 1.        ],\n",
              "       [0.58762887, 0.18871297, 0.75      ],\n",
              "       [0.03092784, 0.48467824, 0.5       ],\n",
              "       [0.2371134 , 0.32150153, 1.        ],\n",
              "       [0.57731959, 1.        , 0.75      ],\n",
              "       [0.4742268 , 0.25638407, 0.5       ],\n",
              "       [0.41237113, 0.67696629, 0.75      ],\n",
              "       [0.31958763, 0.9788049 , 1.        ],\n",
              "       [0.26804124, 0.44356486, 0.5       ],\n",
              "       [0.83505155, 0.80286006, 1.        ],\n",
              "       [1.        , 0.30183861, 0.25      ],\n",
              "       [0.03092784, 0.00919305, 0.5       ],\n",
              "       [0.41237113, 0.04775281, 0.75      ],\n",
              "       [0.96907216, 0.99719101, 0.75      ],\n",
              "       [0.90721649, 0.70275792, 0.5       ],\n",
              "       [0.90721649, 0.96705822, 0.75      ],\n",
              "       [0.08247423, 0.60265577, 0.75      ],\n",
              "       [0.90721649, 0.99208376, 0.75      ],\n",
              "       [0.2371134 , 0.65372829, 0.5       ],\n",
              "       [0.24742268, 0.57405516, 0.5       ],\n",
              "       [0.97938144, 0.31256384, 1.        ],\n",
              "       [0.53608247, 0.70990807, 1.        ],\n",
              "       [0.08247423, 0.53013279, 1.        ],\n",
              "       [0.4742268 , 0.0354954 , 0.75      ],\n",
              "       [0.06185567, 0.37717058, 0.5       ],\n",
              "       [0.58762887, 0.12717058, 0.75      ],\n",
              "       [0.73195876, 0.17696629, 0.5       ],\n",
              "       [0.97938144, 0.32711951, 0.5       ],\n",
              "       [0.96907216, 0.70250255, 0.75      ],\n",
              "       [0.4742268 , 0.13534219, 0.75      ],\n",
              "       [0.32989691, 0.        , 0.75      ],\n",
              "       [0.32989691, 0.6892237 , 1.        ],\n",
              "       [0.20618557, 0.72701736, 1.        ],\n",
              "       [0.16494845, 0.09116445, 0.5       ],\n",
              "       [0.32989691, 0.51072523, 0.5       ],\n",
              "       [0.31958763, 0.27885598, 0.75      ],\n",
              "       [0.6185567 , 0.32967314, 0.5       ],\n",
              "       [0.08247423, 0.3258427 , 0.5       ],\n",
              "       [0.17525773, 0.31230848, 1.        ],\n",
              "       [0.4742268 , 0.8278856 , 0.75      ],\n",
              "       [0.04123711, 0.95556691, 1.        ],\n",
              "       [0.22680412, 0.43232891, 0.75      ],\n",
              "       [0.93814433, 0.16266599, 0.75      ],\n",
              "       [0.6185567 , 0.30337079, 0.75      ],\n",
              "       [0.70103093, 0.78396323, 0.75      ],\n",
              "       [0.62886598, 0.60367722, 0.5       ],\n",
              "       [0.4742268 , 0.06792646, 0.5       ],\n",
              "       [0.60824742, 0.89376915, 0.        ],\n",
              "       [0.39175258, 0.1851379 , 0.75      ],\n",
              "       [0.03092784, 0.36721144, 0.75      ],\n",
              "       [0.75257732, 0.35240041, 0.5       ],\n",
              "       [0.35051546, 0.12487232, 0.75      ],\n",
              "       [0.3814433 , 0.26787538, 1.        ],\n",
              "       [0.24742268, 0.96986721, 0.5       ],\n",
              "       [0.36082474, 0.5354954 , 1.        ],\n",
              "       [0.15463918, 0.52272727, 0.5       ],\n",
              "       [0.5257732 , 0.35674157, 1.        ],\n",
              "       [0.44329897, 0.82660878, 0.5       ],\n",
              "       [0.34020619, 0.85648621, 0.75      ],\n",
              "       [0.17525773, 0.14913177, 0.5       ],\n",
              "       [0.5257732 , 0.65628192, 1.        ],\n",
              "       [0.78350515, 0.1407048 , 1.        ],\n",
              "       [0.32989691, 0.83069459, 0.25      ],\n",
              "       [0.73195876, 0.87563841, 0.5       ],\n",
              "       [0.16494845, 0.5334525 , 0.75      ],\n",
              "       [0.        , 0.93028601, 0.5       ],\n",
              "       [0.24742268, 0.46527068, 0.75      ],\n",
              "       [0.62886598, 0.90194076, 0.75      ],\n",
              "       [0.62886598, 0.71884576, 0.        ],\n",
              "       [0.24742268, 0.57635342, 0.75      ],\n",
              "       [0.40206186, 0.16853933, 1.        ],\n",
              "       [0.5257732 , 0.0566905 , 1.        ],\n",
              "       [0.35051546, 0.05413687, 1.        ],\n",
              "       [0.58762887, 0.25970378, 0.5       ],\n",
              "       [0.03092784, 0.00127681, 0.5       ],\n",
              "       [0.55670103, 0.58988764, 1.        ],\n",
              "       [0.44329897, 0.36823289, 0.25      ],\n",
              "       [0.4742268 , 0.32022472, 0.5       ],\n",
              "       [0.57731959, 0.30694586, 1.        ],\n",
              "       [0.70103093, 0.80796731, 1.        ],\n",
              "       [0.06185567, 0.0354954 , 0.75      ],\n",
              "       [0.6185567 , 0.15245148, 0.75      ]])"
            ]
          },
          "execution_count": 314,
          "metadata": {},
          "output_type": "execute_result"
        }
      ],
      "source": [
        "from sklearn.preprocessing import MinMaxScaler\n",
        "scaler = MinMaxScaler()\n",
        "x_scaled = scaler.fit_transform(x_array)\n",
        "x_scaled"
      ]
    },
    {
      "cell_type": "code",
      "execution_count": 315,
      "metadata": {
        "id": "GuBGKZMtzHOx"
      },
      "outputs": [],
      "source": [
        "import numpy as np\n",
        "gen_rand = lambda a, b, c: np.random.uniform(low = a, high = b, size = c)\n",
        "\n",
        "def gen_centroid (n_centroid, dim):\n",
        "  return gen_rand(0,1,(n_centroid,dim))\n",
        "\n"
      ]
    },
    {
      "cell_type": "code",
      "execution_count": 316,
      "metadata": {
        "id": "b1F2--aO2RbX"
      },
      "outputs": [],
      "source": [
        "from sklearn.neighbors import KNeighborsRegressor\n",
        "\n",
        "def calculate_fitness(centroidbaru,x_scaled,params):\n",
        "  # print(centroidbaru)\n",
        "  kmeans = KMeans(n_clusters=params['n_centroid'], init = centroidbaru, max_iter = params['knn_iter'], n_init = 1, random_state = 0)\n",
        "  kmeans.fit(x_scaled)\n",
        "  data_x=pd.DataFrame(x_scaled)\n",
        "  data_x['Cluster']=kmeans.labels_\n",
        "  sum=0\n",
        "  for i in range(params['n_centroid']):\n",
        "    data_per_cluster=data_x.loc[data_x['Cluster']==i]\n",
        "    X1 = data_per_cluster.iloc[:,:1] #create the X matrix)\n",
        "    y1 = data_per_cluster.iloc[:,-2] #create the y-variable\n",
        "    X1_train, X1_test, y1_train, y1_test = train_test_split(X1, y1, test_size=0.3, random_state=1)\n",
        "    knn1 = KNeighborsRegressor(n_neighbors=params['k']) #create a KNN-classifier \n",
        "    knn1 = knn1.fit(X1_train, y1_train) #this fits the k-nearest neigbor model with the \n",
        "    mae1=mean_absolute_error(y1_test, knn1.predict(X1_test))\n",
        "    sum += mae1\n",
        "\n",
        "  return sum/params['n_centroid']\n",
        "\n",
        "\n",
        "\n",
        "\n"
      ]
    },
    {
      "cell_type": "code",
      "execution_count": 317,
      "metadata": {
        "id": "DuUG8mm6-ybp"
      },
      "outputs": [],
      "source": [
        "def gen_populasi(params):\n",
        "  return [ gen_centroid(params['n_centroid' ], params['dim']) for i in range (params['n_individu']) ]\n",
        "\n"
      ]
    },
    {
      "cell_type": "code",
      "execution_count": 318,
      "metadata": {
        "id": "XduWwnQUNbYy"
      },
      "outputs": [],
      "source": [
        "def gen_random_populasi(params, sz):\n",
        "  return [ gen_centroid(params['n_centroid' ], params['dim']) for i in range (sz) ]\n",
        "\n"
      ]
    },
    {
      "cell_type": "code",
      "execution_count": 319,
      "metadata": {
        "id": "vwtwDx-TCAen"
      },
      "outputs": [],
      "source": [
        "def cal_fit_all(populasi, params,x_scaled ):\n",
        "  # print(populasi)\n",
        "  return [calculate_fitness( centroidbaru,x_scaled,params) for centroidbaru in populasi]"
      ]
    },
    {
      "cell_type": "code",
      "execution_count": 320,
      "metadata": {
        "id": "1MefM-2_GZlN"
      },
      "outputs": [],
      "source": [
        "from scipy.stats import levy_stable as l\n",
        "def movement(centroid, params):\n",
        "  return [ i+ params['alpha'] * l.rvs( params['lb1'], params['lb2']) for i in centroid ]"
      ]
    },
    {
      "cell_type": "code",
      "execution_count": 321,
      "metadata": {
        "id": "faMeGpAoIUkc"
      },
      "outputs": [],
      "source": [
        "def movement_individu(individu, params):\n",
        "  return[movement(centroid, params) for centroid in individu]"
      ]
    },
    {
      "cell_type": "code",
      "execution_count": 322,
      "metadata": {
        "id": "KhUj7f1CIzNE"
      },
      "outputs": [],
      "source": [
        "def movement_populasi(populasi, params):\n",
        "  \n",
        "  return [np.array(movement_individu(individu,params)) if i > 0 else individu for i, individu in enumerate(populasi)]\n",
        "\n"
      ]
    },
    {
      "cell_type": "code",
      "execution_count": 323,
      "metadata": {
        "id": "Au-tPB-IJmYT"
      },
      "outputs": [],
      "source": [
        "def sort_fitness(populasi, fitnes_x):\n",
        "  series_populasi=pd.Series(populasi)\n",
        "  series_fitness=pd.Series(fitnes_x)\n",
        "  datamae=pd.DataFrame({'individu':series_populasi,'Fitness':series_fitness})\n",
        "  datamae=datamae.sort_values(by='Fitness')\n",
        "\n",
        "\n",
        "  return datamae['individu'].values.tolist(), datamae['Fitness'].values.tolist()\n",
        "  "
      ]
    },
    {
      "cell_type": "code",
      "execution_count": 324,
      "metadata": {
        "id": "twOKCEYHL0NS"
      },
      "outputs": [],
      "source": [
        "from scipy.sparse.construct import rand\n",
        "def selec(populasi, params):\n",
        "    # print(populasi)\n",
        "    pa = np.round( np.random.uniform(0,1) * (len(populasi) -1) ).astype(int)\n",
        "    # print(pa)\n",
        "    # sz = populasi[:-pa][:].shape\n",
        "    for i in range(params['n_individu'] -1, params['n_individu']- pa + 1 , -1):\n",
        "      populasi[i]=gen_random_populasi(params, 1)[0]\n",
        "\n",
        "\n",
        "\n",
        "    # populasi[:-pa][:] = gen_random_populasi(params, pa)\n",
        "    return populasi"
      ]
    },
    {
      "cell_type": "code",
      "execution_count": 325,
      "metadata": {
        "colab": {
          "base_uri": "https://localhost:8080/"
        },
        "id": "pOKloUHZN9zf",
        "outputId": "fefb1f62-b2cb-4afa-abbe-95d841c3f28d"
      },
      "outputs": [
        {
          "data": {
            "text/plain": [
              "array([[0.42088159, 0.65509396, 0.79758206],\n",
              "       [0.16277446, 0.71443255, 0.30833846],\n",
              "       [0.30989107, 0.37692135, 0.28758322]])"
            ]
          },
          "execution_count": 325,
          "metadata": {},
          "output_type": "execute_result"
        }
      ],
      "source": [
        "centroidbaru=gen_centroid(3,3)\n",
        "centroidbaru"
      ]
    },
    {
      "cell_type": "code",
      "execution_count": 336,
      "metadata": {
        "colab": {
          "base_uri": "https://localhost:8080/"
        },
        "id": "4XAFC7l38qhm",
        "outputId": "3cc03a21-74be-4a19-aef0-29833b4b31a8"
      },
      "outputs": [
        {
          "name": "stdout",
          "output_type": "stream",
          "text": [
            "nilai fitness terbaik dari masing masing generasi = [0.12530864197530867, 0.12530864197530867, 0.12530864197530867, 0.11533605283605285, 0.11533605283605285, 0.11533605283605285, 0.11533605283605285, 0.11533605283605285, 0.11533605283605285, 0.11533605283605285, 0.11533605283605285, 0.11533605283605285, 0.11533605283605285, 0.11533605283605285, 0.11533605283605285, 0.11533605283605285, 0.11533605283605285, 0.11533605283605285, 0.11533605283605285, 0.11533605283605285, 0.11533605283605285, 0.11533605283605285, 0.11533605283605285, 0.11533605283605285, 0.11533605283605285, 0.11533605283605285, 0.11533605283605285, 0.11533605283605285, 0.11533605283605285, 0.11533605283605285, 0.11533605283605285, 0.11533605283605285, 0.11533605283605285, 0.11533605283605285, 0.11533605283605285, 0.11533605283605285, 0.11533605283605285, 0.11533605283605285, 0.11533605283605285, 0.11533605283605285, 0.11533605283605285, 0.11533605283605285, 0.11533605283605285, 0.11533605283605285, 0.11533605283605285, 0.11533605283605285, 0.11533605283605285, 0.11533605283605285, 0.11533605283605285, 0.11533605283605285, 0.11533605283605285, 0.11533605283605285, 0.11533605283605285, 0.11533605283605285, 0.11533605283605285, 0.11533605283605285, 0.11533605283605285, 0.11533605283605285, 0.11533605283605285, 0.11533605283605285, 0.11533605283605285, 0.11533605283605285, 0.11533605283605285, 0.11533605283605285, 0.11533605283605285, 0.0996031746031746, 0.0996031746031746, 0.0996031746031746, 0.0996031746031746, 0.0996031746031746, 0.0996031746031746, 0.0996031746031746, 0.0996031746031746, 0.0996031746031746, 0.0996031746031746, 0.0996031746031746, 0.0996031746031746, 0.0996031746031746, 0.0996031746031746, 0.0996031746031746, 0.0996031746031746, 0.0996031746031746, 0.0996031746031746, 0.0996031746031746, 0.0996031746031746, 0.0996031746031746, 0.0996031746031746, 0.0996031746031746, 0.0996031746031746, 0.0996031746031746, 0.0996031746031746, 0.0996031746031746, 0.0996031746031746, 0.0996031746031746, 0.0996031746031746, 0.0996031746031746, 0.0996031746031746, 0.0996031746031746, 0.0996031746031746, 0.0996031746031746]\n",
            "nilai fitnes terbaiknya adalah 0.0996031746031746\n",
            "[[0.64631075 0.08852376 0.62015513]\n",
            " [0.84436787 0.56071576 0.93830747]\n",
            " [0.7729783  0.90678724 0.6714411 ]]\n"
          ]
        }
      ],
      "source": [
        "# random.seed(5)\n",
        "params={'n_centroid':3,\n",
        "        'dim':3,\n",
        "        'knn_iter':300,\n",
        "        'k':3,\n",
        "        'n_individu':100,\n",
        "        'alpha':0.01,\n",
        "        'lb1':1.8,\n",
        "        'lb2':0.5,\n",
        "        'max_generasi': 100\n",
        "    \n",
        "}\n",
        "populasi=(gen_populasi(params))\n",
        "# print(populasi)\n",
        "fitnes_x= cal_fit_all(populasi, params,x_scaled)\n",
        "populasi, fitnes_x= sort_fitness(populasi, fitnes_x)\n",
        "# print(populasi)\n",
        "temp=[]\n",
        "iterasi = 0\n",
        "while iterasi<params['max_generasi']:\n",
        "  populasi=selec(populasi, params)\n",
        "\n",
        "  populasi=movement_populasi(populasi, params)\n",
        "  # print(populasi)\n",
        "  fitnes_x=cal_fit_all(populasi, params,x_scaled)\n",
        "  populasi, fitnes_x= sort_fitness(populasi, fitnes_x)\n",
        "  # print(iterasi)\n",
        "  temp.append(fitnes_x[0])\n",
        "  iterasi=iterasi+1\n",
        "\n",
        "\n",
        "\n",
        "print('nilai fitness terbaik dari masing masing generasi =',temp)\n",
        "print('nilai fitnes terbaiknya adalah', fitnes_x[0])\n",
        "print(populasi[0])\n",
        "\n"
      ]
    },
    {
      "cell_type": "code",
      "execution_count": 337,
      "metadata": {},
      "outputs": [],
      "source": [
        "savetemp1=temp.copy()\n",
        "savefitnes1=fitnes_x.copy()\n",
        "savepopulasi1=populasi[0].copy()"
      ]
    },
    {
      "cell_type": "code",
      "execution_count": 327,
      "metadata": {},
      "outputs": [],
      "source": [
        "# solusiterbaik=pd.Series(temp)\n",
        "# iterasian=pd.Series(range(0,params['max_generasi']))\n",
        "# iterasian\n"
      ]
    },
    {
      "cell_type": "code",
      "execution_count": 340,
      "metadata": {},
      "outputs": [
        {
          "data": {
            "image/png": "[encoded data removed]",
            "text/plain": [
              "<Figure size 432x288 with 1 Axes>"
            ]
          },
          "metadata": {
            "needs_background": "light"
          },
          "output_type": "display_data"
        }
      ],
      "source": [
        "\n",
        "fig = plt.figure()\n",
        "ax = fig.add_axes([0,0,1,1])\n",
        "ax.plot(temp, color='teal')\n",
        "plt.title('Best solution', size=18)\n",
        "plt.ylabel('fitnessx',labelpad=params[], size=14)\n",
        "plt.xlabel('iterasi', size=14)\n",
        "plt.show()"
      ]
    },
    {
      "cell_type": "code",
      "execution_count": null,
      "metadata": {},
      "outputs": [],
      "source": [
        "\n",
        "# fig = plt.figure()\n",
        "# ax = fig.add_axes([0,0,1,1])\n",
        "# ax.plot(temp, color='teal')\n",
        "# plt.title('Best solution', size=18)\n",
        "# plt.ylabel('fitnessx', size=14)\n",
        "# plt.xlabel('iterasi', size=14)\n",
        "# plt.show()"
      ]
    },
    {
      "cell_type": "code",
      "execution_count": 329,
      "metadata": {
        "colab": {
          "base_uri": "https://localhost:8080/"
        },
        "id": "QcREOt91GBTF",
        "outputId": "dae180de-5b76-40ca-c525-787504023d3f"
      },
      "outputs": [],
      "source": [
        "# params={'n_centroid':3,\n",
        "#         'dim':3,\n",
        "#         'knn_iter':300,\n",
        "#         'k':3,\n",
        "#         'n_individu':10,\n",
        "#         'alpha':1,\n",
        "#         'lb1':1.8,\n",
        "#         'lb2':0.5,\n",
        "#         'max_generasi': 10\n",
        "    \n",
        "# }\n",
        "# populasi=(gen_populasi(params))\n",
        "# # print(populasi)\n",
        "# fitnes_x= cal_fit_all(populasi, params,x_scaled)\n",
        "# populasi, fitnes_x= sort_fitness(populasi, fitnes_x)\n",
        "# # print(populasi)\n",
        "# temp=[]\n",
        "# iterasi = 0\n",
        "# while iterasi<params['max_generasi']:\n",
        "#   populasi=selec(populasi, params)\n",
        "\n",
        "#   populasi=movement_populasi(populasi, params)\n",
        "#   # print(populasi)\n",
        "#   fitnes_x=cal_fit_all(populasi, params,x_scaled)\n",
        "#   populasi, fitnes_x= sort_fitness(populasi, fitnes_x)\n",
        "#   # print(iterasi)\n",
        "#   temp.append(fitnes_x[0])\n",
        "#   iterasi=iterasi+1\n",
        "\n",
        "\n",
        "\n",
        "# print('nilai fitness terbaik dari masing masing generasi =',temp)\n",
        "# print('nilai fitnes terbaiknya adalah', fitnes_x[0])\n",
        "# print(populasi[0])\n",
        "\n"
      ]
    },
    {
      "cell_type": "code",
      "execution_count": null,
      "metadata": {
        "id": "6TQPuGQb10Un"
      },
      "outputs": [],
      "source": []
    }
  ],
  "metadata": {
    "colab": {
      "name": "Untitled5.ipynb",
      "provenance": []
    },
    "interpreter": {
      "hash": "20a9e06a1eee47c4abbed4ec8225ad91d78d9800d202b71b6b0a6e47016c6abd"
    },
    "kernelspec": {
      "display_name": "Python 3.9.7 ('base')",
      "language": "python",
      "name": "python3"
    },
    "language_info": {
      "codemirror_mode": {
        "name": "ipython",
        "version": 3
      },
      "file_extension": ".py",
      "mimetype": "text/x-python",
      "name": "python",
      "nbconvert_exporter": "python",
      "pygments_lexer": "ipython3",
      "version": "3.9.7"
    }
  },
  "nbformat": 4,
  "nbformat_minor": 0
}
